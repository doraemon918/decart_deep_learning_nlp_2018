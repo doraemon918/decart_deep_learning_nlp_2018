{
 "cells": [
  {
   "cell_type": "markdown",
   "metadata": {},
   "source": [
    "***\n",
    "# Introduction to Convolutional Neural Network\n",
    "\n",
    "### As our neural networks get more complex they become more difficult to train.\n",
    "\n",
    "### What if we used the same weights across a filter? --> This would reduce training.\n",
    "<BR>\n",
    "<center><img src=\"./images/cnn1.png\" width=\"900px\"></center>\n",
    "<BR>\n",
    "***"
   ]
  },
  {
   "cell_type": "markdown",
   "metadata": {},
   "source": [
    "***\n",
    "### Kernels are also known as Filters\n",
    "\n",
    "### A filter uses the same weights to cross the entire field of the previous layer.\n",
    "<BR>\n",
    "<center><img src=\"./images/cnn8.jpg\" width=\"600px\"></center>\n",
    "<BR>\n",
    "***"
   ]
  },
  {
   "cell_type": "markdown",
   "metadata": {},
   "source": [
    "***\n",
    "### The stride value dictates by how much the filter should move at each step. This kernel has a stride of 1.\n",
    "<BR>\n",
    "<center><img src=\"./images/cnn10.gif\" width=\"500px\"></center>\n",
    "<BR>\n",
    "***"
   ]
  },
  {
   "cell_type": "markdown",
   "metadata": {},
   "source": [
    "***\n",
    "### Let's calculate the output of a filter . . .\n",
    "<BR>\n",
    "<center><img src=\"./images/cnn9.png\" width=\"600px\"></center>\n",
    "<BR>\n",
    "***"
   ]
  },
  {
   "cell_type": "markdown",
   "metadata": {},
   "source": [
    "***\n",
    "<BR>\n",
    "<img align=\"left\" style=\"float: l;\" src=\"./images/cnn3.png\" width=\"400px\">\n",
    "<img style=\"float: l;\" src=\"./images/cnn4.png\" width=\"400px\">\n",
    "<BR>\n",
    "***"
   ]
  },
  {
   "cell_type": "markdown",
   "metadata": {},
   "source": [
    "***\n",
    "### After one or two convolutional layers, it is common to reduce the size of the representation produced by the convolutional layer. This reduction in the representation’s size is known as downsampling.\n",
    "\n",
    "### We downsample using a max pooling layer.\n",
    "<BR>\n",
    "<img align=\"left\" style=\"float: l;\" src=\"./images/cnn5.png\" width=\"400px\">\n",
    "<img style=\"float: l;\" src=\"./images/cnn6.png\" width=\"400px\">\n",
    "<BR>\n",
    "***"
   ]
  },
  {
   "cell_type": "markdown",
   "metadata": {},
   "source": [
    "***\n",
    "### At each step, the maximum value within the window is pooled into an output matrix, hence the name max pooling. In the following visual, a window of size f=2 passes over an image with a stride of 2.\n",
    "<BR>\n",
    "<center><img src=\"./images/cnn11.gif\" width=\"500px\"></center>\n",
    "<BR>\n",
    "***"
   ]
  },
  {
   "cell_type": "markdown",
   "metadata": {},
   "source": [
    "***\n",
    "### Before moving into a fully-connected layer we need to perform flattening.\n",
    "<BR>\n",
    "<center><img src=\"./images/cnn12.png\" width=\"300px\"></center>\n",
    "<BR>\n",
    "***"
   ]
  },
  {
   "cell_type": "markdown",
   "metadata": {},
   "source": [
    "***\n",
    "<BR>\n",
    "<center><img src=\"./images/cnn13.png\" width=\"800px\"></center>\n",
    "<BR>\n",
    "***"
   ]
  },
  {
   "cell_type": "markdown",
   "metadata": {},
   "source": [
    "<BR>\n",
    "<center><img src=\"./images/cnn7.png\" width=\"800px\"></center>\n",
    "<BR>"
   ]
  }
 ],
 "metadata": {
  "kernelspec": {
   "display_name": "Python 3",
   "language": "python",
   "name": "python3"
  },
  "language_info": {
   "codemirror_mode": {
    "name": "ipython",
    "version": 3
   },
   "file_extension": ".py",
   "mimetype": "text/x-python",
   "name": "python",
   "nbconvert_exporter": "python",
   "pygments_lexer": "ipython3",
   "version": "3.6.6"
  }
 },
 "nbformat": 4,
 "nbformat_minor": 2
}
